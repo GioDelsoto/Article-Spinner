{
 "cells": [
  {
   "cell_type": "markdown",
   "metadata": {},
   "source": [
    "# Article Spinner Project\n",
    "\n",
    "## Introduction\n",
    "\n",
    "The goal of this project is to create an **article spinner**, a tool that generates a rewritten version of an article by substituting words with their alternatives while preserving the original context and meaning. This technique is often used in content creation, enabling the production of varied versions of a text for SEO optimization, creative writing, or summarization.\n",
    "\n",
    "An article spinner works by leveraging natural language processing (NLP) techniques to identify suitable replacements for words or phrases based on their context in a sentence. In this project, we achieve this by building a **probability model** that predicts the likelihood of a word appearing in a specific position based on its surrounding words.\n",
    "\n",
    "We are using the [BBC Full Text Document Classification Dataset](https://www.kaggle.com/shivamkushwaha/bbc-full-text-document-classification) as the input data for building and testing our model.\n",
    "\n",
    "## How the Article Spinner is Generated\n",
    "\n",
    "1. **Building the Probability Model:**  \n",
    "   A **frequentist approach** is used to construct a probability model. This model calculates the conditional probability of a word appearing at a specific position, given the word that precedes it (`p-1`) and the word that follows it (`p+1`). Mathematically, this can be expressed as:  \n",
    "   \\[\n",
    "   P(\\text{word}_{p} | \\text{word}_{p-1}, \\text{word}_{p+1})\n",
    "   \\]  \n",
    "   The model uses word frequencies from the dataset to estimate these probabilities.\n",
    "\n",
    "2. **Sampling New Words:**  \n",
    "   Using the probability model, the spinner samples alternative words for each position in the article. The selection process ensures that the generated text remains coherent and meaningful by prioritizing words with higher probabilities in the given context.\n",
    "\n",
    "3. **Reconstruction of the Article:**  \n",
    "   The newly sampled words are assembled to create a \"spun\" version of the original article. This version maintains the original structure and message but uses different wording to achieve variation.\n",
    "\n",
    "## Dataset Details\n",
    "\n",
    "The project uses the BBC dataset, which contains articles categorized into various topics such as sports, politics, and entertainment. This diverse dataset provides a robust foundation for training the probability model, ensuring that the spinner can handle a variety of contexts and word associations effectively.\n",
    "\n",
    "By the end of the project, we aim to have a functional article spinner that demonstrates the power of NLP techniques in generating context-aware variations of textual content.\n"
   ]
  },
  {
   "cell_type": "code",
   "execution_count": 1,
   "metadata": {
    "_cell_guid": "b1076dfc-b9ad-4769-8c92-a6c4dae69d19",
    "_uuid": "8f2839f25d086af736a60e9eeb907d3b93b6e0e5"
   },
   "outputs": [
    {
     "name": "stderr",
     "output_type": "stream",
     "text": [
      "[nltk_data] Downloading package stopwords to\n",
      "[nltk_data]     C:\\Users\\giode\\AppData\\Roaming\\nltk_data...\n",
      "[nltk_data]   Package stopwords is already up-to-date!\n"
     ]
    }
   ],
   "source": [
    "import numpy as np # linear algebra\n",
    "import pandas as pd # data processing, CSV file I/O (e.g. pd.read_csv)\n",
    "from nltk.tokenize import word_tokenize\n",
    "\n",
    "import string\n",
    "import nltk\n",
    "nltk.download('stopwords')\n",
    "from nltk.corpus import stopwords\n",
    "\n",
    "from nltk.tokenize.treebank import TreebankWordDetokenizer"
   ]
  },
  {
   "cell_type": "code",
   "execution_count": 4,
   "metadata": {},
   "outputs": [
    {
     "name": "stdout",
     "output_type": "stream",
     "text": [
      "!\"#$%&'()*+,-./:;<=>?@[\\]^_`{|}~\n",
      "{'because', \"she's\", 'a', 'about', 'wouldn', 'yourself', 'did', 'ourselves', 'other', \"weren't\", 'do', \"isn't\", 'further', 'hers', 'same', 'mightn', 'them', 'have', \"doesn't\", \"should've\", \"won't\", 'when', 'were', 'i', 'shan', 'am', 'until', 'what', 'no', 'this', 'it', 'those', 'mustn', \"wasn't\", 'during', 'we', 'your', 'you', 'whom', \"that'll\", 'but', 'down', 'under', 'very', 'over', 'they', \"didn't\", 'her', 'to', 'more', 'will', 'now', 'all', 'in', 'below', 'me', \"shan't\", 'above', \"aren't\", 'doing', 'yours', \"you'll\", 'few', 'by', 'with', 'ain', \"mightn't\", 'being', 'ma', 'isn', 'o', 'as', 'most', 'be', 'are', 'couldn', 'such', 'off', 'after', 'then', \"hadn't\", 'just', 'needn', 'him', 'herself', 'theirs', 'for', 'the', 'or', 'up', 'if', 'any', 'some', \"you've\", 'where', 'own', 'can', 'should', 'he', 'against', 'each', 'haven', 'there', 'why', 'that', 'll', 'yourselves', 'been', 'which', 'nor', 'so', 'was', 'shouldn', 'ours', 'his', 'on', \"wouldn't\", 'too', 'themselves', 'has', 'she', 'does', 'these', 'through', 's', 've', 'only', 'doesn', 'had', 'here', 'wasn', \"you'd\", 'itself', 'its', 'both', 'y', 'hadn', \"couldn't\", 'd', 'while', 'between', 'himself', 't', 'myself', \"mustn't\", 'than', 'weren', 'their', \"hasn't\", 'once', \"don't\", \"haven't\", 'and', 'aren', 'an', \"shouldn't\", 'don', 'again', 'won', 'not', 'from', 'm', 'hasn', 'my', 'before', 'didn', 'at', 're', 'into', 'having', 'how', 'who', \"it's\", \"needn't\", \"you're\", 'our', 'of', 'out', 'is'}\n"
     ]
    }
   ],
   "source": [
    "dir = './data/'\n",
    "\n",
    "file = 'bbc_text_cls.csv'\n",
    "\n",
    "df0 = pd.read_csv(dir+file)\n",
    "\n",
    "# Punctuation list\n",
    "punctuations = string.punctuation\n",
    "\n",
    "# Stopwords list\n",
    "stop_words = set(stopwords.words('english'))\n",
    "\n",
    "print(punctuations)\n",
    "print(stop_words)"
   ]
  },
  {
   "cell_type": "code",
   "execution_count": 5,
   "metadata": {},
   "outputs": [
    {
     "data": {
      "text/html": [
       "<div>\n",
       "<style scoped>\n",
       "    .dataframe tbody tr th:only-of-type {\n",
       "        vertical-align: middle;\n",
       "    }\n",
       "\n",
       "    .dataframe tbody tr th {\n",
       "        vertical-align: top;\n",
       "    }\n",
       "\n",
       "    .dataframe thead th {\n",
       "        text-align: right;\n",
       "    }\n",
       "</style>\n",
       "<table border=\"1\" class=\"dataframe\">\n",
       "  <thead>\n",
       "    <tr style=\"text-align: right;\">\n",
       "      <th></th>\n",
       "      <th>text</th>\n",
       "      <th>labels</th>\n",
       "    </tr>\n",
       "  </thead>\n",
       "  <tbody>\n",
       "    <tr>\n",
       "      <th>0</th>\n",
       "      <td>Ad sales boost Time Warner profit\\n\\nQuarterly...</td>\n",
       "      <td>business</td>\n",
       "    </tr>\n",
       "    <tr>\n",
       "      <th>1</th>\n",
       "      <td>Dollar gains on Greenspan speech\\n\\nThe dollar...</td>\n",
       "      <td>business</td>\n",
       "    </tr>\n",
       "    <tr>\n",
       "      <th>2</th>\n",
       "      <td>Yukos unit buyer faces loan claim\\n\\nThe owner...</td>\n",
       "      <td>business</td>\n",
       "    </tr>\n",
       "    <tr>\n",
       "      <th>3</th>\n",
       "      <td>High fuel prices hit BA's profits\\n\\nBritish A...</td>\n",
       "      <td>business</td>\n",
       "    </tr>\n",
       "    <tr>\n",
       "      <th>4</th>\n",
       "      <td>Pernod takeover talk lifts Domecq\\n\\nShares in...</td>\n",
       "      <td>business</td>\n",
       "    </tr>\n",
       "  </tbody>\n",
       "</table>\n",
       "</div>"
      ],
      "text/plain": [
       "                                                text    labels\n",
       "0  Ad sales boost Time Warner profit\\n\\nQuarterly...  business\n",
       "1  Dollar gains on Greenspan speech\\n\\nThe dollar...  business\n",
       "2  Yukos unit buyer faces loan claim\\n\\nThe owner...  business\n",
       "3  High fuel prices hit BA's profits\\n\\nBritish A...  business\n",
       "4  Pernod takeover talk lifts Domecq\\n\\nShares in...  business"
      ]
     },
     "execution_count": 5,
     "metadata": {},
     "output_type": "execute_result"
    }
   ],
   "source": [
    "df0.head()"
   ]
  },
  {
   "cell_type": "code",
   "execution_count": 6,
   "metadata": {},
   "outputs": [
    {
     "data": {
      "text/plain": [
       "labels\n",
       "sport            511\n",
       "business         510\n",
       "politics         417\n",
       "tech             401\n",
       "entertainment    386\n",
       "Name: count, dtype: int64"
      ]
     },
     "execution_count": 6,
     "metadata": {},
     "output_type": "execute_result"
    }
   ],
   "source": [
    "df0['labels'].value_counts()"
   ]
  },
  {
   "cell_type": "code",
   "execution_count": 7,
   "metadata": {},
   "outputs": [],
   "source": [
    "#Get the business articles\n",
    "\n",
    "df = df0[df0['labels']=='business']['text']"
   ]
  },
  {
   "cell_type": "code",
   "execution_count": 8,
   "metadata": {},
   "outputs": [
    {
     "data": {
      "text/plain": [
       "(510,)"
      ]
     },
     "execution_count": 8,
     "metadata": {},
     "output_type": "execute_result"
    }
   ],
   "source": [
    "df.shape"
   ]
  },
  {
   "cell_type": "code",
   "execution_count": 9,
   "metadata": {},
   "outputs": [
    {
     "data": {
      "text/plain": [
       "0    Ad sales boost Time Warner profit\\n\\nQuarterly...\n",
       "1    Dollar gains on Greenspan speech\\n\\nThe dollar...\n",
       "2    Yukos unit buyer faces loan claim\\n\\nThe owner...\n",
       "3    High fuel prices hit BA's profits\\n\\nBritish A...\n",
       "4    Pernod takeover talk lifts Domecq\\n\\nShares in...\n",
       "Name: text, dtype: object"
      ]
     },
     "execution_count": 9,
     "metadata": {},
     "output_type": "execute_result"
    }
   ],
   "source": [
    "df.head()"
   ]
  },
  {
   "cell_type": "code",
   "execution_count": 10,
   "metadata": {},
   "outputs": [
    {
     "data": {
      "text/plain": [
       "'Ad sales boost Time Warner profit\\n\\nQuarterly profits at US media giant TimeWarner jumped 76% to $1.13bn (£600m) for the three months to December, from $639m year-earlier.\\n\\nThe firm, which is now one of the biggest investors in Google, benefited from sales of high-speed internet connections and higher advert sales. TimeWarner said fourth quarter sales rose 2% to $11.1bn from $10.9bn. Its profits were buoyed by one-off gains which offset a profit dip at Warner Bros, and less users for AOL.\\n\\nTime Warner said on Friday that it now owns 8% of search-engine Google. But its own internet business, AOL, had has mixed fortunes. It lost 464,000 subscribers in the fourth quarter profits were lower than in the preceding three quarters. However, the company said AOL\\'s underlying profit before exceptional items rose 8% on the back of stronger internet advertising revenues. It hopes to increase subscribers by offering the online service free to TimeWarner internet customers and will try to sign up AOL\\'s existing customers for high-speed broadband. TimeWarner also has to restate 2000 and 2003 results following a probe by the US Securities Exchange Commission (SEC), which is close to concluding.\\n\\nTime Warner\\'s fourth quarter profits were slightly better than analysts\\' expectations. But its film division saw profits slump 27% to $284m, helped by box-office flops Alexander and Catwoman, a sharp contrast to year-earlier, when the third and final film in the Lord of the Rings trilogy boosted results. For the full-year, TimeWarner posted a profit of $3.36bn, up 27% from its 2003 performance, while revenues grew 6.4% to $42.09bn. \"Our financial performance was strong, meeting or exceeding all of our full-year objectives and greatly enhancing our flexibility,\" chairman and chief executive Richard Parsons said. For 2005, TimeWarner is projecting operating earnings growth of around 5%, and also expects higher revenue and wider profit margins.\\n\\nTimeWarner is to restate its accounts as part of efforts to resolve an inquiry into AOL by US market regulators. It has already offered to pay $300m to settle charges, in a deal that is under review by the SEC. The company said it was unable to estimate the amount it needed to set aside for legal reserves, which it previously set at $500m. It intends to adjust the way it accounts for a deal with German music publisher Bertelsmann\\'s purchase of a stake in AOL Europe, which it had reported as advertising revenue. It will now book the sale of its stake in AOL Europe as a loss on the value of that stake.'"
      ]
     },
     "execution_count": 10,
     "metadata": {},
     "output_type": "execute_result"
    }
   ],
   "source": [
    "df[0]"
   ]
  },
  {
   "cell_type": "code",
   "execution_count": 11,
   "metadata": {},
   "outputs": [
    {
     "name": "stdout",
     "output_type": "stream",
     "text": [
      "Ad sales boost Time Warner profit\n",
      "\n",
      "Quarterly profits at US media giant TimeWarner jumped 76% to $1.13bn (£600m) for the three months to December, from $639m year-earlier.\n",
      "\n",
      "The firm, which is now one of the biggest investors in Google, benefited from sales of high-speed internet connections and higher advert sales. TimeWarner said fourth quarter sales rose 2% to $11.1bn from $10.9bn. Its profits were buoyed by one-off gains which offset a profit dip at Warner Bros, and less users for AOL.\n",
      "\n",
      "Time Warner said on Friday that it now owns 8% of search-engine Google. But its own internet business, AOL, had has mixed fortunes. It lost 464,000 subscribers in the fourth quarter profits were lower than in the preceding three quarters. However, the company said AOL's underlying profit before exceptional items rose 8% on the back of stronger internet advertising revenues. It hopes to increase subscribers by offering the online service free to TimeWarner internet customers and will try to sign up AOL's existing customers for high-speed broadband. TimeWarner also has to restate 2000 and 2003 results following a probe by the US Securities Exchange Commission (SEC), which is close to concluding.\n",
      "\n",
      "Time Warner's fourth quarter profits were slightly better than analysts' expectations. But its film division saw profits slump 27% to $284m, helped by box-office flops Alexander and Catwoman, a sharp contrast to year-earlier, when the third and final film in the Lord of the Rings trilogy boosted results. For the full-year, TimeWarner posted a profit of $3.36bn, up 27% from its 2003 performance, while revenues grew 6.4% to $42.09bn. \"Our financial performance was strong, meeting or exceeding all of our full-year objectives and greatly enhancing our flexibility,\" chairman and chief executive Richard Parsons said. For 2005, TimeWarner is projecting operating earnings growth of around 5%, and also expects higher revenue and wider profit margins.\n",
      "\n",
      "TimeWarner is to restate its accounts as part of efforts to resolve an inquiry into AOL by US market regulators. It has already offered to pay $300m to settle charges, in a deal that is under review by the SEC. The company said it was unable to estimate the amount it needed to set aside for legal reserves, which it previously set at $500m. It intends to adjust the way it accounts for a deal with German music publisher Bertelsmann's purchase of a stake in AOL Europe, which it had reported as advertising revenue. It will now book the sale of its stake in AOL Europe as a loss on the value of that stake.\n"
     ]
    }
   ],
   "source": [
    "print(df[0])"
   ]
  },
  {
   "cell_type": "markdown",
   "metadata": {},
   "source": [
    "It is using \"\\n\\n\" to separete paragraph and \"\\'\" to indicate possessive form. As the goal is to create an article spin, we don't need to change the \\'. Also, we will not remove punctuations."
   ]
  },
  {
   "cell_type": "code",
   "execution_count": 12,
   "metadata": {},
   "outputs": [],
   "source": [
    "#Tokenize the corpus:\n",
    "\n",
    "df_token = df.apply(lambda x: word_tokenize(x))"
   ]
  },
  {
   "cell_type": "code",
   "execution_count": 13,
   "metadata": {},
   "outputs": [
    {
     "data": {
      "text/plain": [
       "['Ad',\n",
       " 'sales',\n",
       " 'boost',\n",
       " 'Time',\n",
       " 'Warner',\n",
       " 'profit',\n",
       " 'Quarterly',\n",
       " 'profits',\n",
       " 'at',\n",
       " 'US',\n",
       " 'media',\n",
       " 'giant',\n",
       " 'TimeWarner',\n",
       " 'jumped',\n",
       " '76']"
      ]
     },
     "execution_count": 13,
     "metadata": {},
     "output_type": "execute_result"
    }
   ],
   "source": [
    "df_token[0][:15]"
   ]
  },
  {
   "cell_type": "code",
   "execution_count": 14,
   "metadata": {},
   "outputs": [
    {
     "data": {
      "text/plain": [
       "'Ad sales boost Time Warner profit\\n\\nQuarterly profits at US media giant TimeWarner jumped 76% to $1.13bn (£600m) for the three months to December, from $639m year-earlier.\\n\\nThe firm, which is now one of the biggest investors in Google, benefited from sales of high-speed internet connections and higher advert sales. TimeWarner said fourth quarter sales rose 2% to $11.1bn from $10.9bn. Its profits were buoyed by one-off gains which offset a profit dip at Warner Bros, and less users for AOL.\\n\\nTime Warner said on Friday that it now owns 8% of search-engine Google. But its own internet business, AOL, had has mixed fortunes. It lost 464,000 subscribers in the fourth quarter profits were lower than in the preceding three quarters. However, the company said AOL\\'s underlying profit before exceptional items rose 8% on the back of stronger internet advertising revenues. It hopes to increase subscribers by offering the online service free to TimeWarner internet customers and will try to sign up AOL\\'s existing customers for high-speed broadband. TimeWarner also has to restate 2000 and 2003 results following a probe by the US Securities Exchange Commission (SEC), which is close to concluding.\\n\\nTime Warner\\'s fourth quarter profits were slightly better than analysts\\' expectations. But its film division saw profits slump 27% to $284m, helped by box-office flops Alexander and Catwoman, a sharp contrast to year-earlier, when the third and final film in the Lord of the Rings trilogy boosted results. For the full-year, TimeWarner posted a profit of $3.36bn, up 27% from its 2003 performance, while revenues grew 6.4% to $42.09bn. \"Our financial performance was strong, meeting or exceeding all of our full-year objectives and greatly enhancing our flexibility,\" chairman and chief executive Richard Parsons said. For 2005, TimeWarner is projecting operating earnings growth of around 5%, and also expects higher revenue and wider profit margins.\\n\\nTimeWarner is to restate its accounts as part of efforts to resolve an inquiry into AOL by US market regulators. It has already offered to pay $300m to settle charges, in a deal that is under review by the SEC. The company said it was unable to estimate the amount it needed to set aside for legal reserves, which it previously set at $500m. It intends to adjust the way it accounts for a deal with German music publisher Bertelsmann\\'s purchase of a stake in AOL Europe, which it had reported as advertising revenue. It will now book the sale of its stake in AOL Europe as a loss on the value of that stake.'"
      ]
     },
     "execution_count": 14,
     "metadata": {},
     "output_type": "execute_result"
    }
   ],
   "source": [
    "df[0]"
   ]
  },
  {
   "cell_type": "code",
   "execution_count": 15,
   "metadata": {},
   "outputs": [
    {
     "data": {
      "text/plain": [
       "False"
      ]
     },
     "execution_count": 15,
     "metadata": {},
     "output_type": "execute_result"
    }
   ],
   "source": [
    "\"\\n\\n\" in df_token[1] #Check if paragraph was tokenized"
   ]
  },
  {
   "cell_type": "code",
   "execution_count": 16,
   "metadata": {},
   "outputs": [
    {
     "name": "stdout",
     "output_type": "stream",
     "text": [
      "Vocabulary Size: 14703 words\n"
     ]
    }
   ],
   "source": [
    "vocab = set([word for token_list in df_token for word in token_list])\n",
    "V = len(vocab)\n",
    "print(f\"Vocabulary Size: {V} words\")"
   ]
  },
  {
   "cell_type": "code",
   "execution_count": 17,
   "metadata": {},
   "outputs": [],
   "source": [
    "#Create an encoder and decoder\n",
    "word2idx = {}\n",
    "idx2word = []\n",
    "count = 0\n",
    "for word in vocab:\n",
    "    word2idx[word] = 0\n",
    "    idx2word.append(word)\n",
    "    count+=1"
   ]
  },
  {
   "cell_type": "code",
   "execution_count": 18,
   "metadata": {},
   "outputs": [],
   "source": [
    "#Now we want to calculate the probability of: P(word_i | word_{i-1}, word_{i+1}).\n",
    "#Lets use a dictionary dic -> (word_{i-1}, word_{i+1}) = p(word_i) to accomplish this\n",
    "\n",
    "prob = {}\n",
    "for token_list in df_token:\n",
    "\n",
    "    for i in range(1,len(token_list)-1):\n",
    "\n",
    "        if (token_list[i-1],token_list[i+1]) not in prob:\n",
    "            prob[ (token_list[i-1],token_list[i+1]) ] = {}\n",
    "        if token_list[i] not in prob[ (token_list[i-1],token_list[i+1]) ]:\n",
    "            prob[ (token_list[i-1],token_list[i+1]) ][token_list[i]] = 0\n",
    "\n",
    "        prob[(token_list[i-1],token_list[i+1])][token_list[i]] += 1"
   ]
  },
  {
   "cell_type": "code",
   "execution_count": 19,
   "metadata": {},
   "outputs": [],
   "source": [
    "# Normalize prob\n",
    "\n",
    "for key in prob.keys():\n",
    "\n",
    "    list_dic = prob[key]\n",
    "    count = 0\n",
    "    total = sum(prob[key].values())\n",
    "\n",
    "    for key2, value2 in prob[key].items():\n",
    "        prob[key][key2] = value2/total"
   ]
  },
  {
   "cell_type": "code",
   "execution_count": 20,
   "metadata": {},
   "outputs": [],
   "source": [
    "#Article Spinner\n",
    "class ArticleSpinner():\n",
    "    def __init__(self,prob):\n",
    "        self.prob = prob\n",
    "\n",
    "    def _randon_sampler(self,prob):\n",
    "\n",
    "        rdn = np.random.rand()\n",
    "\n",
    "        idx = 0\n",
    "        cum_prob = prob[0]\n",
    "\n",
    "        while cum_prob<=rdn:\n",
    "            idx+=1\n",
    "            cum_prob+=prob[idx]\n",
    "\n",
    "\n",
    "        return idx\n",
    "\n",
    "\n",
    "\n",
    "    def __call__(self, doc):\n",
    "\n",
    "        destokenize = TreebankWordDetokenizer()\n",
    "        self.old_doc = doc\n",
    "\n",
    "        paragraphs = doc.split('\\n\\n')\n",
    "\n",
    "        new_doc = []\n",
    "        for paragraph in paragraphs:\n",
    "\n",
    "            tokens = word_tokenize(paragraph)\n",
    "\n",
    "            new_tokens = tokens.copy()\n",
    "\n",
    "            for i in range(1,len(tokens)-1):\n",
    "                if (tokens[i] not in punctuations) and (tokens[i] not in stop_words):\n",
    "\n",
    "                    list_probs = list(self.prob[ (tokens[i-1], tokens[i+1]) ].values())\n",
    "\n",
    "\n",
    "                    if len(list_probs) == 1 or np.random.random() > 0.3:  #This np.random.random() ensures that we change only 30% of the words\n",
    "                        continue\n",
    "\n",
    "                    idx_rdn = self._randon_sampler(list_probs)\n",
    "\n",
    "\n",
    "                    new_word = list(self.prob[ (tokens[i-1],tokens[i+1]) ].keys())[idx_rdn]\n",
    "\n",
    "                    if new_word in punctuations or new_word in stop_words:\n",
    "                        continue\n",
    "                    #if len(list_probs) > 1:\n",
    "                     #   print(tokens[i], new_word)\n",
    "\n",
    "                    new_tokens[i] = '{'+tokens[i]+'/'+new_word+'}'\n",
    "\n",
    "            new_doc.append(destokenize.detokenize(new_tokens))\n",
    "\n",
    "        return \"\\n\\n\".join(new_doc)"
   ]
  },
  {
   "cell_type": "code",
   "execution_count": 21,
   "metadata": {},
   "outputs": [],
   "source": [
    "art_spinner = ArticleSpinner(prob)"
   ]
  },
  {
   "cell_type": "code",
   "execution_count": 22,
   "metadata": {},
   "outputs": [
    {
     "name": "stdout",
     "output_type": "stream",
     "text": [
      "Ad sales boost Time Warner profit\n",
      "\n",
      "Quarterly profits at US {media/telecoms} giant TimeWarner jumped {76/1.8}% to $1.13bn (£600m) for the {three/busiest} months to {December/September}, from $639m year-earlier.\n",
      "\n",
      "The firm, which is now {one/part} of the {biggest/biggest} investors in Google, benefited from {sales/members} of {high-speed/high-speed} internet connections and higher advert sales . TimeWarner said fourth quarter sales rose {2/1}% to $11.1bn from $10.9bn . Its profits were buoyed by one-off gains which offset a profit dip at Warner Bros, and less users for {AOL/months}.\n",
      "\n",
      "Time Warner said on Friday that it now owns 8% of search-engine Google . But its own {internet/consulting} business, {AOL/Colombia}, had has mixed fortunes . It lost 464,000 subscribers in the {fourth/fourth} quarter profits were lower than in the preceding three quarters . However, the {company/US} said AOL's underlying profit before exceptional items rose 8% on the back of stronger internet advertising revenues . It hopes to increase subscribers by offering the {online/online} service free to TimeWarner internet {customers/services} and will try to sign up AOL's existing customers for high-speed broadband . TimeWarner also has to restate 2000 and 2003 results following a probe by the US Securities Exchange Commission ({SEC/FDA}), which is close to {concluding/compete}.\n",
      "\n",
      "Time Warner's fourth quarter profits were {slightly/still} better than analysts' expectations . But its film division saw profits slump 27% to $284m, helped by box-office flops Alexander and Catwoman, a sharp contrast to {year-earlier/insolvency}, when the third and final film in the Lord of the Rings trilogy boosted results . For the full-year, TimeWarner posted a {profit/subsidiary} of $3.36bn, up 27% from its {2003/best} performance, while revenues grew {6.4/6.9}% to $42.09bn . \"Our financial {performance/sector} was strong, {meeting/meeting} or exceeding all of our full-year objectives and greatly enhancing our flexibility, {\"/\"} chairman and chief executive Richard Parsons said . For 2005, TimeWarner is projecting operating earnings growth of around 5%, and also expects higher revenue and wider profit {margins/estimates}.\n",
      "\n",
      "TimeWarner is to restate its {accounts/discounts} as {part/sales} of efforts to resolve an inquiry into AOL by US {market/federal} regulators . It has {already/already} offered to {pay/provide} $300m to {settle/criminal} charges, in a deal that is under {review/questioning} by the {SEC/unit}. {The/The} company said it was {unable/expected} to {estimate/hamper} the amount it needed to set aside for legal reserves, which it previously set at $500m . {It/It} intends to adjust the way it accounts for a deal with German music publisher Bertelsmann's purchase of a stake in AOL Europe, which it had reported as advertising revenue . It will now book the sale of its stake in AOL Europe as a {loss/premium} on the value of that stake.\n"
     ]
    }
   ],
   "source": [
    "print(art_spinner(df[0]))"
   ]
  },
  {
   "cell_type": "code",
   "execution_count": 23,
   "metadata": {},
   "outputs": [
    {
     "name": "stdout",
     "output_type": "stream",
     "text": [
      "Golden rule 'intact' says ex-aide\n",
      "\n",
      "Chancellor Gordon Brown will meet his golden economic rule \"with a {margin/deal} to spare\", {according/dipping} to his {former/finance} chief economic adviser.\n",
      "\n",
      "Formerly one of Mr Brown's closest Treasury aides, {Ed/Ed} Balls hinted at a Budget giveaway on {16/21} {March/January}. He said he {hoped/hoped} more {would/would} be done to build on {current/current} tax credit rules . {Any/Any} rate rise ahead of an expected May election would not {affect/praise} the {Labour/Labour} Party's chances of winning, he added . {Last/Last} July, {Mr/Mr} Balls won the right to step down from his Treasury position and run for {parliament/everybody}, defending the Labour stronghold of Normanton in West Yorkshire.\n",
      "\n",
      "Mr {Balls/Ebbers} {rejected/told} the {allegation/revelation} that Mr {Brown/Elgindy} had been sidelined in the election campaign, saying he was playing a \"{different/significant}\" {role/attached} to the {one/charges} he {played/participated} in the last two elections . He rejected speculation that Mr {Brown/Royer} was considering becoming Foreign Secretary, saying his recent travels had been linked to efforts to {boost/use} international {development/listings}. Gordon Brown's decision to announce the date of the Budget while on a trip to China was a \"sensible thing to do\", since he was talking about skills and {investment/China} at the time, {Mr/Mr} Balls told the BBC . Commenting on speculation of an interest rate rise, he said it was not within the remit of the Bank of {England/Japan}'s Monetary Policy Committee (MPC) to factor a potential election into its rate decisions . Expectations of a rate {rise/rise} have gathered pace after figures showed that {house/property} prices are still rising . Consumer borrowing rose at a near-record pace in January . \"{I/We} don't {believe/think} it {would/would} be a big election issue in {Britain/Europe} or a problem for {Labour/example},\" Mr {Balls/Gammell} said . Prime Minister Tony Blair has yet to name the date of the election, but most pundits are betting on 5 May as the likely {day/day}.\n"
     ]
    }
   ],
   "source": [
    "print(art_spinner(df[105]))"
   ]
  },
  {
   "cell_type": "code",
   "execution_count": null,
   "metadata": {},
   "outputs": [],
   "source": []
  }
 ],
 "metadata": {
  "kaggle": {
   "accelerator": "none",
   "dataSources": [
    {
     "datasetId": 5180651,
     "sourceId": 8649066,
     "sourceType": "datasetVersion"
    }
   ],
   "dockerImageVersionId": 30732,
   "isGpuEnabled": false,
   "isInternetEnabled": true,
   "language": "python",
   "sourceType": "notebook"
  },
  "kernelspec": {
   "display_name": "Python 3 (ipykernel)",
   "language": "python",
   "name": "python3"
  },
  "language_info": {
   "codemirror_mode": {
    "name": "ipython",
    "version": 3
   },
   "file_extension": ".py",
   "mimetype": "text/x-python",
   "name": "python",
   "nbconvert_exporter": "python",
   "pygments_lexer": "ipython3",
   "version": "3.9.19"
  }
 },
 "nbformat": 4,
 "nbformat_minor": 4
}
