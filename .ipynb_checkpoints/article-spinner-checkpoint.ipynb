{
 "cells": [
  {
   "cell_type": "code",
   "execution_count": null,
   "metadata": {
    "_cell_guid": "b1076dfc-b9ad-4769-8c92-a6c4dae69d19",
    "_uuid": "8f2839f25d086af736a60e9eeb907d3b93b6e0e5",
    "execution": {
     "iopub.execute_input": "2024-06-22T17:08:50.668670Z",
     "iopub.status.busy": "2024-06-22T17:08:50.668201Z",
     "iopub.status.idle": "2024-06-22T17:08:54.122647Z",
     "shell.execute_reply": "2024-06-22T17:08:54.121460Z",
     "shell.execute_reply.started": "2024-06-22T17:08:50.668635Z"
    },
    "trusted": true
   },
   "outputs": [],
   "source": [
    "#The goal of this project is to create an article spinner.\n",
    "#An article spinner copies an article with different words without losing context.\n",
    "#We are going to use the bbc dataset from https://www.kaggle.com/shivamkushwaha/bbc-full-text-document-classification\n",
    "\n",
    "import numpy as np # linear algebra\n",
    "import pandas as pd # data processing, CSV file I/O (e.g. pd.read_csv)\n",
    "from nltk.tokenize import word_tokenize\n",
    "\n",
    "import string\n",
    "import nltk\n",
    "nltk.download('stopwords')\n",
    "from nltk.corpus import stopwords\n",
    "\n",
    "from nltk.tokenize.treebank import TreebankWordDetokenizer"
   ]
  },
  {
   "cell_type": "code",
   "execution_count": null,
   "metadata": {
    "execution": {
     "iopub.execute_input": "2024-06-22T17:08:54.126281Z",
     "iopub.status.busy": "2024-06-22T17:08:54.125315Z",
     "iopub.status.idle": "2024-06-22T17:08:54.309877Z",
     "shell.execute_reply": "2024-06-22T17:08:54.308212Z",
     "shell.execute_reply.started": "2024-06-22T17:08:54.126236Z"
    },
    "trusted": true
   },
   "outputs": [
    {
     "name": "stdout",
     "output_type": "stream",
     "text": [
      "!\"#$%&'()*+,-./:;<=>?@[\\]^_`{|}~\n",
      "{'our', 'over', 'which', \"you'd\", 'then', 'was', \"that'll\", 'just', 'them', 'me', 'same', 'do', 'too', 'y', 't', 'a', 'who', 'your', 'being', 'ourselves', 'hers', 'their', 'now', 'off', 'you', 'him', 'no', 'they', 'with', 'here', 'from', 'what', 've', 'but', 'themselves', 'yours', 'wasn', 'should', 'again', 'by', 'other', 'to', 'any', 'doesn', 'up', 'for', 'been', \"mustn't\", 'i', 'at', \"you're\", 'those', 'below', 'into', 'after', 'm', 'and', 'isn', 'shouldn', 'will', \"should've\", 'above', 'as', 'll', 'ain', \"it's\", 'couldn', 'haven', 'or', \"shan't\", 'nor', 'through', 'in', 'weren', \"couldn't\", 'such', 'all', 'the', \"don't\", 'needn', \"wouldn't\", 'under', 'where', 'during', 'very', 'aren', 'while', 'hasn', 'his', 'is', 'does', 'doing', 'shan', 'mightn', 'out', 'each', 'am', 'not', 'down', 'herself', 'myself', 'd', 'wouldn', 'there', 'few', 'more', 'so', 'about', 'her', 'when', 'both', 'hadn', 'because', 'how', 'my', 'if', \"weren't\", 'be', 'against', 'don', \"mightn't\", 'yourself', \"didn't\", 'whom', \"you've\", 'itself', 'only', 'can', 'once', 'didn', 'won', \"hadn't\", 'himself', \"won't\", \"wasn't\", 'have', 'o', 'until', 'yourselves', 'most', 'this', \"haven't\", 'ma', 'than', \"aren't\", 'theirs', 'it', 'are', \"hasn't\", \"she's\", \"shouldn't\", \"doesn't\", 'further', 'some', 'did', 'these', 'having', 'mustn', 'had', 'own', \"isn't\", \"needn't\", 'before', 'that', 'an', 'were', 'she', \"you'll\", 'between', 'he', 'of', 'ours', 'its', 'why', 'has', 'we', 're', 'on', 's'}\n"
     ]
    }
   ],
   "source": [
    "dir = '../data/bbc-dataset/'\n",
    "\n",
    "file = 'bbc_text_cls.csv'\n",
    "\n",
    "df0 = pd.read_csv(dir+file)\n",
    "\n",
    "# Punctuation list\n",
    "punctuations = string.punctuation\n",
    "\n",
    "# Stopwords list\n",
    "stop_words = set(stopwords.words('english'))\n",
    "\n",
    "print(punctuations)\n",
    "print(stop_words)"
   ]
  },
  {
   "cell_type": "code",
   "execution_count": 3,
   "metadata": {
    "execution": {
     "iopub.execute_input": "2024-06-22T17:08:54.323756Z",
     "iopub.status.busy": "2024-06-22T17:08:54.321177Z",
     "iopub.status.idle": "2024-06-22T17:08:54.355968Z",
     "shell.execute_reply": "2024-06-22T17:08:54.354572Z",
     "shell.execute_reply.started": "2024-06-22T17:08:54.323672Z"
    },
    "trusted": true
   },
   "outputs": [
    {
     "data": {
      "text/html": [
       "<div>\n",
       "<style scoped>\n",
       "    .dataframe tbody tr th:only-of-type {\n",
       "        vertical-align: middle;\n",
       "    }\n",
       "\n",
       "    .dataframe tbody tr th {\n",
       "        vertical-align: top;\n",
       "    }\n",
       "\n",
       "    .dataframe thead th {\n",
       "        text-align: right;\n",
       "    }\n",
       "</style>\n",
       "<table border=\"1\" class=\"dataframe\">\n",
       "  <thead>\n",
       "    <tr style=\"text-align: right;\">\n",
       "      <th></th>\n",
       "      <th>text</th>\n",
       "      <th>labels</th>\n",
       "    </tr>\n",
       "  </thead>\n",
       "  <tbody>\n",
       "    <tr>\n",
       "      <th>0</th>\n",
       "      <td>Ad sales boost Time Warner profit\\n\\nQuarterly...</td>\n",
       "      <td>business</td>\n",
       "    </tr>\n",
       "    <tr>\n",
       "      <th>1</th>\n",
       "      <td>Dollar gains on Greenspan speech\\n\\nThe dollar...</td>\n",
       "      <td>business</td>\n",
       "    </tr>\n",
       "    <tr>\n",
       "      <th>2</th>\n",
       "      <td>Yukos unit buyer faces loan claim\\n\\nThe owner...</td>\n",
       "      <td>business</td>\n",
       "    </tr>\n",
       "    <tr>\n",
       "      <th>3</th>\n",
       "      <td>High fuel prices hit BA's profits\\n\\nBritish A...</td>\n",
       "      <td>business</td>\n",
       "    </tr>\n",
       "    <tr>\n",
       "      <th>4</th>\n",
       "      <td>Pernod takeover talk lifts Domecq\\n\\nShares in...</td>\n",
       "      <td>business</td>\n",
       "    </tr>\n",
       "  </tbody>\n",
       "</table>\n",
       "</div>"
      ],
      "text/plain": [
       "                                                text    labels\n",
       "0  Ad sales boost Time Warner profit\\n\\nQuarterly...  business\n",
       "1  Dollar gains on Greenspan speech\\n\\nThe dollar...  business\n",
       "2  Yukos unit buyer faces loan claim\\n\\nThe owner...  business\n",
       "3  High fuel prices hit BA's profits\\n\\nBritish A...  business\n",
       "4  Pernod takeover talk lifts Domecq\\n\\nShares in...  business"
      ]
     },
     "execution_count": 3,
     "metadata": {},
     "output_type": "execute_result"
    }
   ],
   "source": [
    "df0.head()"
   ]
  },
  {
   "cell_type": "code",
   "execution_count": 4,
   "metadata": {
    "execution": {
     "iopub.execute_input": "2024-06-22T17:08:54.358565Z",
     "iopub.status.busy": "2024-06-22T17:08:54.357867Z",
     "iopub.status.idle": "2024-06-22T17:08:54.378909Z",
     "shell.execute_reply": "2024-06-22T17:08:54.377695Z",
     "shell.execute_reply.started": "2024-06-22T17:08:54.358517Z"
    },
    "trusted": true
   },
   "outputs": [
    {
     "data": {
      "text/plain": [
       "labels\n",
       "sport            511\n",
       "business         510\n",
       "politics         417\n",
       "tech             401\n",
       "entertainment    386\n",
       "Name: count, dtype: int64"
      ]
     },
     "execution_count": 4,
     "metadata": {},
     "output_type": "execute_result"
    }
   ],
   "source": [
    "df0['labels'].value_counts()"
   ]
  },
  {
   "cell_type": "code",
   "execution_count": 5,
   "metadata": {
    "execution": {
     "iopub.execute_input": "2024-06-22T17:08:54.381848Z",
     "iopub.status.busy": "2024-06-22T17:08:54.380553Z",
     "iopub.status.idle": "2024-06-22T17:08:54.390901Z",
     "shell.execute_reply": "2024-06-22T17:08:54.389551Z",
     "shell.execute_reply.started": "2024-06-22T17:08:54.381803Z"
    },
    "trusted": true
   },
   "outputs": [],
   "source": [
    "#Get the business articles\n",
    "\n",
    "df = df0[df0['labels']=='business']['text']"
   ]
  },
  {
   "cell_type": "code",
   "execution_count": 6,
   "metadata": {
    "execution": {
     "iopub.execute_input": "2024-06-22T17:08:54.394816Z",
     "iopub.status.busy": "2024-06-22T17:08:54.393554Z",
     "iopub.status.idle": "2024-06-22T17:08:54.406770Z",
     "shell.execute_reply": "2024-06-22T17:08:54.405533Z",
     "shell.execute_reply.started": "2024-06-22T17:08:54.394747Z"
    },
    "trusted": true
   },
   "outputs": [
    {
     "data": {
      "text/plain": [
       "(510,)"
      ]
     },
     "execution_count": 6,
     "metadata": {},
     "output_type": "execute_result"
    }
   ],
   "source": [
    "df.shape"
   ]
  },
  {
   "cell_type": "code",
   "execution_count": 7,
   "metadata": {
    "execution": {
     "iopub.execute_input": "2024-06-22T17:08:54.409629Z",
     "iopub.status.busy": "2024-06-22T17:08:54.408760Z",
     "iopub.status.idle": "2024-06-22T17:08:54.427138Z",
     "shell.execute_reply": "2024-06-22T17:08:54.425985Z",
     "shell.execute_reply.started": "2024-06-22T17:08:54.409590Z"
    },
    "trusted": true
   },
   "outputs": [
    {
     "data": {
      "text/plain": [
       "0    Ad sales boost Time Warner profit\\n\\nQuarterly...\n",
       "1    Dollar gains on Greenspan speech\\n\\nThe dollar...\n",
       "2    Yukos unit buyer faces loan claim\\n\\nThe owner...\n",
       "3    High fuel prices hit BA's profits\\n\\nBritish A...\n",
       "4    Pernod takeover talk lifts Domecq\\n\\nShares in...\n",
       "Name: text, dtype: object"
      ]
     },
     "execution_count": 7,
     "metadata": {},
     "output_type": "execute_result"
    }
   ],
   "source": [
    "df.head()"
   ]
  },
  {
   "cell_type": "code",
   "execution_count": 8,
   "metadata": {
    "execution": {
     "iopub.execute_input": "2024-06-22T17:08:54.430345Z",
     "iopub.status.busy": "2024-06-22T17:08:54.429370Z",
     "iopub.status.idle": "2024-06-22T17:08:54.446360Z",
     "shell.execute_reply": "2024-06-22T17:08:54.444988Z",
     "shell.execute_reply.started": "2024-06-22T17:08:54.430299Z"
    },
    "trusted": true
   },
   "outputs": [
    {
     "data": {
      "text/plain": [
       "'Ad sales boost Time Warner profit\\n\\nQuarterly profits at US media giant TimeWarner jumped 76% to $1.13bn (£600m) for the three months to December, from $639m year-earlier.\\n\\nThe firm, which is now one of the biggest investors in Google, benefited from sales of high-speed internet connections and higher advert sales. TimeWarner said fourth quarter sales rose 2% to $11.1bn from $10.9bn. Its profits were buoyed by one-off gains which offset a profit dip at Warner Bros, and less users for AOL.\\n\\nTime Warner said on Friday that it now owns 8% of search-engine Google. But its own internet business, AOL, had has mixed fortunes. It lost 464,000 subscribers in the fourth quarter profits were lower than in the preceding three quarters. However, the company said AOL\\'s underlying profit before exceptional items rose 8% on the back of stronger internet advertising revenues. It hopes to increase subscribers by offering the online service free to TimeWarner internet customers and will try to sign up AOL\\'s existing customers for high-speed broadband. TimeWarner also has to restate 2000 and 2003 results following a probe by the US Securities Exchange Commission (SEC), which is close to concluding.\\n\\nTime Warner\\'s fourth quarter profits were slightly better than analysts\\' expectations. But its film division saw profits slump 27% to $284m, helped by box-office flops Alexander and Catwoman, a sharp contrast to year-earlier, when the third and final film in the Lord of the Rings trilogy boosted results. For the full-year, TimeWarner posted a profit of $3.36bn, up 27% from its 2003 performance, while revenues grew 6.4% to $42.09bn. \"Our financial performance was strong, meeting or exceeding all of our full-year objectives and greatly enhancing our flexibility,\" chairman and chief executive Richard Parsons said. For 2005, TimeWarner is projecting operating earnings growth of around 5%, and also expects higher revenue and wider profit margins.\\n\\nTimeWarner is to restate its accounts as part of efforts to resolve an inquiry into AOL by US market regulators. It has already offered to pay $300m to settle charges, in a deal that is under review by the SEC. The company said it was unable to estimate the amount it needed to set aside for legal reserves, which it previously set at $500m. It intends to adjust the way it accounts for a deal with German music publisher Bertelsmann\\'s purchase of a stake in AOL Europe, which it had reported as advertising revenue. It will now book the sale of its stake in AOL Europe as a loss on the value of that stake.'"
      ]
     },
     "execution_count": 8,
     "metadata": {},
     "output_type": "execute_result"
    }
   ],
   "source": [
    "df[0]"
   ]
  },
  {
   "cell_type": "code",
   "execution_count": 9,
   "metadata": {
    "execution": {
     "iopub.execute_input": "2024-06-22T17:08:54.453019Z",
     "iopub.status.busy": "2024-06-22T17:08:54.452294Z",
     "iopub.status.idle": "2024-06-22T17:08:54.458734Z",
     "shell.execute_reply": "2024-06-22T17:08:54.457713Z",
     "shell.execute_reply.started": "2024-06-22T17:08:54.452986Z"
    },
    "trusted": true
   },
   "outputs": [
    {
     "name": "stdout",
     "output_type": "stream",
     "text": [
      "Ad sales boost Time Warner profit\n",
      "\n",
      "Quarterly profits at US media giant TimeWarner jumped 76% to $1.13bn (£600m) for the three months to December, from $639m year-earlier.\n",
      "\n",
      "The firm, which is now one of the biggest investors in Google, benefited from sales of high-speed internet connections and higher advert sales. TimeWarner said fourth quarter sales rose 2% to $11.1bn from $10.9bn. Its profits were buoyed by one-off gains which offset a profit dip at Warner Bros, and less users for AOL.\n",
      "\n",
      "Time Warner said on Friday that it now owns 8% of search-engine Google. But its own internet business, AOL, had has mixed fortunes. It lost 464,000 subscribers in the fourth quarter profits were lower than in the preceding three quarters. However, the company said AOL's underlying profit before exceptional items rose 8% on the back of stronger internet advertising revenues. It hopes to increase subscribers by offering the online service free to TimeWarner internet customers and will try to sign up AOL's existing customers for high-speed broadband. TimeWarner also has to restate 2000 and 2003 results following a probe by the US Securities Exchange Commission (SEC), which is close to concluding.\n",
      "\n",
      "Time Warner's fourth quarter profits were slightly better than analysts' expectations. But its film division saw profits slump 27% to $284m, helped by box-office flops Alexander and Catwoman, a sharp contrast to year-earlier, when the third and final film in the Lord of the Rings trilogy boosted results. For the full-year, TimeWarner posted a profit of $3.36bn, up 27% from its 2003 performance, while revenues grew 6.4% to $42.09bn. \"Our financial performance was strong, meeting or exceeding all of our full-year objectives and greatly enhancing our flexibility,\" chairman and chief executive Richard Parsons said. For 2005, TimeWarner is projecting operating earnings growth of around 5%, and also expects higher revenue and wider profit margins.\n",
      "\n",
      "TimeWarner is to restate its accounts as part of efforts to resolve an inquiry into AOL by US market regulators. It has already offered to pay $300m to settle charges, in a deal that is under review by the SEC. The company said it was unable to estimate the amount it needed to set aside for legal reserves, which it previously set at $500m. It intends to adjust the way it accounts for a deal with German music publisher Bertelsmann's purchase of a stake in AOL Europe, which it had reported as advertising revenue. It will now book the sale of its stake in AOL Europe as a loss on the value of that stake.\n"
     ]
    }
   ],
   "source": [
    "print(df[0])"
   ]
  },
  {
   "cell_type": "markdown",
   "metadata": {},
   "source": [
    "It is using \"\\n\\n\" to separete paragraph and \"\\'\" to indicate possessive form. As the goal is to create an article spin, we don't need to change the \\'. Also, we will not remove punctuations."
   ]
  },
  {
   "cell_type": "code",
   "execution_count": 10,
   "metadata": {
    "execution": {
     "iopub.execute_input": "2024-06-22T17:08:54.461246Z",
     "iopub.status.busy": "2024-06-22T17:08:54.460571Z",
     "iopub.status.idle": "2024-06-22T17:08:57.128879Z",
     "shell.execute_reply": "2024-06-22T17:08:57.127516Z",
     "shell.execute_reply.started": "2024-06-22T17:08:54.461207Z"
    },
    "trusted": true
   },
   "outputs": [],
   "source": [
    "#Tokenize the corpus:\n",
    "\n",
    "df_token = df.apply(lambda x: word_tokenize(x))"
   ]
  },
  {
   "cell_type": "code",
   "execution_count": 11,
   "metadata": {
    "execution": {
     "iopub.execute_input": "2024-06-22T17:08:57.130799Z",
     "iopub.status.busy": "2024-06-22T17:08:57.130383Z",
     "iopub.status.idle": "2024-06-22T17:08:57.142142Z",
     "shell.execute_reply": "2024-06-22T17:08:57.140494Z",
     "shell.execute_reply.started": "2024-06-22T17:08:57.130759Z"
    },
    "trusted": true
   },
   "outputs": [
    {
     "data": {
      "text/plain": [
       "['Ad',\n",
       " 'sales',\n",
       " 'boost',\n",
       " 'Time',\n",
       " 'Warner',\n",
       " 'profit',\n",
       " 'Quarterly',\n",
       " 'profits',\n",
       " 'at',\n",
       " 'US',\n",
       " 'media',\n",
       " 'giant',\n",
       " 'TimeWarner',\n",
       " 'jumped',\n",
       " '76']"
      ]
     },
     "execution_count": 11,
     "metadata": {},
     "output_type": "execute_result"
    }
   ],
   "source": [
    "df_token[0][:15]"
   ]
  },
  {
   "cell_type": "code",
   "execution_count": 12,
   "metadata": {
    "execution": {
     "iopub.execute_input": "2024-06-22T17:08:57.144694Z",
     "iopub.status.busy": "2024-06-22T17:08:57.144236Z",
     "iopub.status.idle": "2024-06-22T17:08:57.157669Z",
     "shell.execute_reply": "2024-06-22T17:08:57.156036Z",
     "shell.execute_reply.started": "2024-06-22T17:08:57.144661Z"
    },
    "trusted": true
   },
   "outputs": [
    {
     "data": {
      "text/plain": [
       "'Ad sales boost Time Warner profit\\n\\nQuarterly profits at US media giant TimeWarner jumped 76% to $1.13bn (£600m) for the three months to December, from $639m year-earlier.\\n\\nThe firm, which is now one of the biggest investors in Google, benefited from sales of high-speed internet connections and higher advert sales. TimeWarner said fourth quarter sales rose 2% to $11.1bn from $10.9bn. Its profits were buoyed by one-off gains which offset a profit dip at Warner Bros, and less users for AOL.\\n\\nTime Warner said on Friday that it now owns 8% of search-engine Google. But its own internet business, AOL, had has mixed fortunes. It lost 464,000 subscribers in the fourth quarter profits were lower than in the preceding three quarters. However, the company said AOL\\'s underlying profit before exceptional items rose 8% on the back of stronger internet advertising revenues. It hopes to increase subscribers by offering the online service free to TimeWarner internet customers and will try to sign up AOL\\'s existing customers for high-speed broadband. TimeWarner also has to restate 2000 and 2003 results following a probe by the US Securities Exchange Commission (SEC), which is close to concluding.\\n\\nTime Warner\\'s fourth quarter profits were slightly better than analysts\\' expectations. But its film division saw profits slump 27% to $284m, helped by box-office flops Alexander and Catwoman, a sharp contrast to year-earlier, when the third and final film in the Lord of the Rings trilogy boosted results. For the full-year, TimeWarner posted a profit of $3.36bn, up 27% from its 2003 performance, while revenues grew 6.4% to $42.09bn. \"Our financial performance was strong, meeting or exceeding all of our full-year objectives and greatly enhancing our flexibility,\" chairman and chief executive Richard Parsons said. For 2005, TimeWarner is projecting operating earnings growth of around 5%, and also expects higher revenue and wider profit margins.\\n\\nTimeWarner is to restate its accounts as part of efforts to resolve an inquiry into AOL by US market regulators. It has already offered to pay $300m to settle charges, in a deal that is under review by the SEC. The company said it was unable to estimate the amount it needed to set aside for legal reserves, which it previously set at $500m. It intends to adjust the way it accounts for a deal with German music publisher Bertelsmann\\'s purchase of a stake in AOL Europe, which it had reported as advertising revenue. It will now book the sale of its stake in AOL Europe as a loss on the value of that stake.'"
      ]
     },
     "execution_count": 12,
     "metadata": {},
     "output_type": "execute_result"
    }
   ],
   "source": [
    "df[0]"
   ]
  },
  {
   "cell_type": "code",
   "execution_count": 13,
   "metadata": {
    "execution": {
     "iopub.execute_input": "2024-06-22T17:08:57.160126Z",
     "iopub.status.busy": "2024-06-22T17:08:57.159697Z",
     "iopub.status.idle": "2024-06-22T17:08:57.171798Z",
     "shell.execute_reply": "2024-06-22T17:08:57.170493Z",
     "shell.execute_reply.started": "2024-06-22T17:08:57.160088Z"
    },
    "trusted": true
   },
   "outputs": [
    {
     "data": {
      "text/plain": [
       "False"
      ]
     },
     "execution_count": 13,
     "metadata": {},
     "output_type": "execute_result"
    }
   ],
   "source": [
    "\"\\n\\n\" in df_token[1] #Check if paragraph was tokenized"
   ]
  },
  {
   "cell_type": "code",
   "execution_count": 14,
   "metadata": {
    "execution": {
     "iopub.execute_input": "2024-06-22T17:08:57.173851Z",
     "iopub.status.busy": "2024-06-22T17:08:57.173387Z",
     "iopub.status.idle": "2024-06-22T17:08:57.219362Z",
     "shell.execute_reply": "2024-06-22T17:08:57.217642Z",
     "shell.execute_reply.started": "2024-06-22T17:08:57.173813Z"
    },
    "trusted": true
   },
   "outputs": [
    {
     "name": "stdout",
     "output_type": "stream",
     "text": [
      "Vocabulary Size: 14705 words\n"
     ]
    }
   ],
   "source": [
    "vocab = set([word for token_list in df_token for word in token_list])\n",
    "V = len(vocab)\n",
    "print(f\"Vocabulary Size: {V} words\")"
   ]
  },
  {
   "cell_type": "code",
   "execution_count": 15,
   "metadata": {
    "execution": {
     "iopub.execute_input": "2024-06-22T17:08:57.221763Z",
     "iopub.status.busy": "2024-06-22T17:08:57.221164Z",
     "iopub.status.idle": "2024-06-22T17:08:57.238491Z",
     "shell.execute_reply": "2024-06-22T17:08:57.237153Z",
     "shell.execute_reply.started": "2024-06-22T17:08:57.221723Z"
    },
    "trusted": true
   },
   "outputs": [],
   "source": [
    "#Create an encoder and decoder\n",
    "word2idx = {}\n",
    "idx2word = []\n",
    "count = 0\n",
    "for word in vocab:\n",
    "    word2idx[word] = 0\n",
    "    idx2word.append(word)\n",
    "    count+=1"
   ]
  },
  {
   "cell_type": "code",
   "execution_count": null,
   "metadata": {
    "execution": {
     "iopub.execute_input": "2024-06-22T17:08:57.240676Z",
     "iopub.status.busy": "2024-06-22T17:08:57.240204Z",
     "iopub.status.idle": "2024-06-22T17:08:57.938610Z",
     "shell.execute_reply": "2024-06-22T17:08:57.937251Z",
     "shell.execute_reply.started": "2024-06-22T17:08:57.240634Z"
    },
    "trusted": true
   },
   "outputs": [],
   "source": [
    "#Now we want to calculate the probability of: P(word_i | word_{i-1}, word_{i+1}).\n",
    "#Lets use a dictionary dic -> (word_{i-1}, word_{i+1}) = p(word_i) to accomplish this\n",
    "\n",
    "prob = {}\n",
    "for token_list in df_token:\n",
    "\n",
    "    for i in range(1,len(token_list)-1):\n",
    "\n",
    "        if (token_list[i-1],token_list[i+1]) not in prob:\n",
    "            prob[ (token_list[i-1],token_list[i+1]) ] = {}\n",
    "        if token_list[i] not in prob[ (token_list[i-1],token_list[i+1]) ]:\n",
    "            prob[ (token_list[i-1],token_list[i+1]) ][token_list[i]] = 0\n",
    "\n",
    "        prob[(token_list[i-1],token_list[i+1])][token_list[i]] += 1"
   ]
  },
  {
   "cell_type": "code",
   "execution_count": null,
   "metadata": {
    "execution": {
     "iopub.execute_input": "2024-06-22T17:08:57.940734Z",
     "iopub.status.busy": "2024-06-22T17:08:57.940267Z",
     "iopub.status.idle": "2024-06-22T17:08:58.192724Z",
     "shell.execute_reply": "2024-06-22T17:08:58.191503Z",
     "shell.execute_reply.started": "2024-06-22T17:08:57.940695Z"
    },
    "trusted": true
   },
   "outputs": [],
   "source": [
    "# Normalize prob\n",
    "\n",
    "for key in prob.keys():\n",
    "\n",
    "    list_dic = prob[key]\n",
    "    count = 0\n",
    "    total = sum(prob[key].values())\n",
    "\n",
    "    for key2, value2 in prob[key].items():\n",
    "        prob[key][key2] = value2/total"
   ]
  },
  {
   "cell_type": "code",
   "execution_count": null,
   "metadata": {
    "execution": {
     "iopub.execute_input": "2024-06-22T17:08:58.194555Z",
     "iopub.status.busy": "2024-06-22T17:08:58.194163Z",
     "iopub.status.idle": "2024-06-22T17:08:58.209163Z",
     "shell.execute_reply": "2024-06-22T17:08:58.207924Z",
     "shell.execute_reply.started": "2024-06-22T17:08:58.194523Z"
    },
    "trusted": true
   },
   "outputs": [],
   "source": [
    "#Article Spinner\n",
    "class ArticleSpinner():\n",
    "    def __init__(self,prob):\n",
    "        self.prob = prob\n",
    "\n",
    "    def _randon_sampler(self,prob):\n",
    "\n",
    "        rdn = np.random.rand()\n",
    "\n",
    "        idx = 0\n",
    "        cum_prob = prob[0]\n",
    "\n",
    "        while cum_prob<=rdn:\n",
    "            idx+=1\n",
    "            cum_prob+=prob[idx]\n",
    "\n",
    "\n",
    "        return idx\n",
    "\n",
    "\n",
    "\n",
    "    def __call__(self, doc):\n",
    "\n",
    "        destokenize = TreebankWordDetokenizer()\n",
    "        self.old_doc = doc\n",
    "\n",
    "        paragraphs = doc.split('\\n\\n')\n",
    "\n",
    "        new_doc = []\n",
    "        for paragraph in paragraphs:\n",
    "\n",
    "            tokens = word_tokenize(paragraph)\n",
    "\n",
    "            new_tokens = tokens.copy()\n",
    "\n",
    "            for i in range(1,len(tokens)-1):\n",
    "                if (tokens[i] not in punctuations) and (tokens[i] not in stop_words):\n",
    "\n",
    "                    list_probs = list(self.prob[ (tokens[i-1], tokens[i+1]) ].values())\n",
    "\n",
    "\n",
    "                    if len(list_probs) == 1 or np.random.random() > 0.3:  #This np.random.random() ensures that we change only 30% of the words\n",
    "                        continue\n",
    "\n",
    "                    idx_rdn = self._randon_sampler(list_probs)\n",
    "\n",
    "\n",
    "                    new_word = list(self.prob[ (tokens[i-1],tokens[i+1]) ].keys())[idx_rdn]\n",
    "\n",
    "                    if new_word in punctuations or new_word in stop_words:\n",
    "                        continue\n",
    "                    #if len(list_probs) > 1:\n",
    "                     #   print(tokens[i], new_word)\n",
    "\n",
    "                    new_tokens[i] = '{'+tokens[i]+'/'+new_word+'}'\n",
    "\n",
    "            new_doc.append(destokenize.detokenize(new_tokens))\n",
    "\n",
    "        return \"\\n\\n\".join(new_doc)"
   ]
  },
  {
   "cell_type": "code",
   "execution_count": 19,
   "metadata": {
    "execution": {
     "iopub.execute_input": "2024-06-22T17:08:58.210760Z",
     "iopub.status.busy": "2024-06-22T17:08:58.210392Z",
     "iopub.status.idle": "2024-06-22T17:08:58.221933Z",
     "shell.execute_reply": "2024-06-22T17:08:58.220794Z",
     "shell.execute_reply.started": "2024-06-22T17:08:58.210732Z"
    },
    "trusted": true
   },
   "outputs": [],
   "source": [
    "art_spinner = ArticleSpinner(prob)"
   ]
  },
  {
   "cell_type": "code",
   "execution_count": 20,
   "metadata": {
    "execution": {
     "iopub.execute_input": "2024-06-22T17:08:58.223582Z",
     "iopub.status.busy": "2024-06-22T17:08:58.223234Z",
     "iopub.status.idle": "2024-06-22T17:08:58.251597Z",
     "shell.execute_reply": "2024-06-22T17:08:58.250060Z",
     "shell.execute_reply.started": "2024-06-22T17:08:58.223553Z"
    },
    "trusted": true
   },
   "outputs": [
    {
     "name": "stdout",
     "output_type": "stream",
     "text": [
      "Ad sales boost Time Warner profit\n",
      "\n",
      "Quarterly profits at US media giant TimeWarner jumped 76% to $1.13bn (£600m) for the three months to December,from $639m year-earlier.\n",
      "\n",
      "The firm,which is now one of the biggest {investors/slide} in Google,benefited from sales of high-speed internet {connections/connections} and higher advert sales . {TimeWarner/He} said fourth quarter sales rose {2/0.3}% to $11.1bn from $10.9bn . Its profits were buoyed by one-off gains which {offset/continued} a profit dip at Warner Bros,and less users for {AOL/water}.\n",
      "\n",
      "Time Warner said on {Friday/Monday} that it now owns 8% of search-engine Google . But its own {internet/consulting} business,AOL,had has mixed fortunes . {It/Alitalia} lost 464,000 subscribers in the {fourth/last} quarter profits were {lower/better} than in the {preceding/final} three quarters . However,the {company/Commission} said {AOL/Foster}'s underlying profit before exceptional items rose 8% on the back of stronger internet advertising revenues . It hopes to increase subscribers by {offering/expanding} the {online/online} service free to TimeWarner internet {customers/services} and will try to sign up AOL's existing customers for high-speed broadband . TimeWarner also has to restate 2000 and 2003 results following a probe by the US Securities Exchange {Commission/Commission} (SEC), which is close to {concluding/£350m}.\n",
      "\n",
      "Time Warner's fourth quarter profits were slightly better than analysts' expectations . But its film division saw profits slump 27% to $284m,helped by box-office flops Alexander and Catwoman,a sharp contrast to year-earlier,when the third and final film in the {Lord/disposal} of the Rings trilogy boosted {results/sales}. For the full-year,{TimeWarner/AMR} posted a {profit/result} of ${3.36bn/162bn}, up 27% from its 2003 performance,while revenues grew 6.4% to $42.09bn .``{Our/The} financial performance was strong,meeting or exceeding all of our full-year objectives and greatly enhancing our flexibility ,\"chairman and {chief/chief} executive Richard Parsons said . For 2005,TimeWarner is projecting operating earnings growth of around {5/20}%,and also {expects/expects} higher revenue and wider profit margins.\n",
      "\n",
      "TimeWarner is to restate its accounts as part of efforts to {resolve/lack} an inquiry into AOL by {US/US} market regulators . It has already offered to {pay/A} $300m to settle charges,in a deal that is under {review/questioning} by the {SEC/future}. The company said it was unable to estimate the {amount/prices} it needed to set {aside/aside} for legal reserves,which it previously set at $500m . It intends to adjust the way it accounts for a {deal/platform} with German music publisher Bertelsmann's purchase of a {stake/placebo} in {AOL/continental} Europe,which it had reported as advertising {revenue/revenue}. {It/This} will now book the sale of its stake in AOL Europe as a {loss/statement} on the value of that stake.\n"
     ]
    }
   ],
   "source": [
    "print(art_spinner(df[0]))"
   ]
  },
  {
   "cell_type": "code",
   "execution_count": 21,
   "metadata": {
    "execution": {
     "iopub.execute_input": "2024-06-22T17:08:58.253759Z",
     "iopub.status.busy": "2024-06-22T17:08:58.253279Z",
     "iopub.status.idle": "2024-06-22T17:08:58.272993Z",
     "shell.execute_reply": "2024-06-22T17:08:58.271402Z",
     "shell.execute_reply.started": "2024-06-22T17:08:58.253718Z"
    },
    "trusted": true
   },
   "outputs": [
    {
     "name": "stdout",
     "output_type": "stream",
     "text": [
      "Golden rule 'intact' says ex-aide\n",
      "\n",
      "Chancellor Gordon Brown will meet his golden economic rule``with a margin to spare\", according to his former chief economic {adviser/impact}.\n",
      "\n",
      "Formerly one of Mr {Brown/Tsutsumi}'s closest Treasury aides,Ed Balls hinted at a Budget giveaway on 16 {March/March}. He said he hoped more would be done to build on current tax credit rules . Any rate rise ahead of an expected May election would not affect the Labour Party's {chances/introduction} of winning,he added . Last July,Mr {Balls/Balls} won the right to {step/cool} down from his Treasury position and run for parliament,defending the Labour stronghold of Normanton in West Yorkshire.\n",
      "\n",
      "Mr Balls {rejected/rejected} the allegation that Mr Brown had been {sidelined/growth} in the election campaign,{saying/''} he was playing a``different\"role to the one he played in the last two {elections/decades}. He rejected speculation that Mr Brown was considering becoming Foreign Secretary,{saying/although} his recent travels had been linked to efforts to boost international {development/law}. {Gordon/Mr} Brown's decision to {announce/meet} the {date/loss} of the Budget while on a trip to China was a``sensible thing to do\", since he was talking about {skills/everything} and investment at the time,Mr Balls told the BBC . {Commenting/Also} on speculation of an interest rate rise,he said it was not {within/think} the remit of the Bank of England's Monetary Policy {Committee/Committee} ({MPC/£425,000}) to {factor/enjoy} a potential election into its rate decisions . {Expectations/Many} of a rate rise have gathered pace after figures {showed/showed} that house prices are still rising . Consumer borrowing rose at a near-record pace in January .``{I/We} don't {believe/think} it would be a {big/crucial} election issue in Britain or a problem for Labour,{'' /''} Mr Balls said . {Prime/Agriculture} Minister Tony Blair has yet to name the date of the election,but most pundits are betting on 5 May as the {likely/first} day.\n"
     ]
    }
   ],
   "source": [
    "print(art_spinner(df[105]))"
   ]
  },
  {
   "cell_type": "code",
   "execution_count": null,
   "metadata": {},
   "outputs": [],
   "source": []
  }
 ],
 "metadata": {
  "kaggle": {
   "accelerator": "none",
   "dataSources": [
    {
     "datasetId": 5180651,
     "sourceId": 8649066,
     "sourceType": "datasetVersion"
    }
   ],
   "dockerImageVersionId": 30732,
   "isGpuEnabled": false,
   "isInternetEnabled": true,
   "language": "python",
   "sourceType": "notebook"
  },
  "kernelspec": {
   "display_name": "Python 3",
   "language": "python",
   "name": "python3"
  },
  "language_info": {
   "codemirror_mode": {
    "name": "ipython",
    "version": 3
   },
   "file_extension": ".py",
   "mimetype": "text/x-python",
   "name": "python",
   "nbconvert_exporter": "python",
   "pygments_lexer": "ipython3",
   "version": "3.10.13"
  }
 },
 "nbformat": 4,
 "nbformat_minor": 4
}
